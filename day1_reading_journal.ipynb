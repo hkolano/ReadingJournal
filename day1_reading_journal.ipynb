{
 "cells": [
  {
   "cell_type": "markdown",
   "metadata": {},
   "source": [
    "# Day 1 Reading Journal\n",
    "\n",
    "Hi everyone.  These are the exercises for the first set of readings from ThinkPython.  While this journal consists of several required exercises, it is meant to encourage active reading more generally.  You should use this journal to take detailed notes, catalog questions, and explore the content from ThinkPython deeply.\n",
    "\n",
    "For more information on using the Jupyter notebook, check out the documentation [here](https://www.datacamp.com/community/tutorials/tutorial-jupyter-notebook##UseJupyter).\n",
    "\n",
    "Additionally, in order to write text in this document, you will be making use of Markdown cells. A handy cheatsheet for Markdown is available [here](https://github.com/adam-p/markdown-here/wiki/Markdown-Cheatsheet)."
   ]
  },
  {
   "cell_type": "markdown",
   "metadata": {},
   "source": [
    "## Chapter 1\n",
    "\n",
    "Note: the exercise numbers below match up with the reading for ease of cross referencing."
   ]
  },
  {
   "cell_type": "markdown",
   "metadata": {},
   "source": [
    "### Exercise 1.4\n",
    "\n",
    "Start the Python interpreter and use it as a simple calculator. Python’s syntax for math operations is almost the same as standard mathematical notation. For example, the symbols +, - and / denote addition, subtraction and division, as you would expect. The symbol for multiplication is *\n",
    "\n",
    "* How many seconds are there in 42 minutes 42 seconds?\n",
    "* How many miles are there in 10 kilometers? Hint: there are 1.61 kilometers in a mile.\n",
    "* If you run a 10 kilometer race in 42 minutes 42 seconds, what is your average pace (time per mile in minutes and seconds)? What is your average speed in miles per hour?\n",
    "\n",
    "Please use the following markdown cell to provide your answers."
   ]
  },
  {
   "cell_type": "code",
   "execution_count": 35,
   "metadata": {
    "collapsed": false
   },
   "outputs": [
    {
     "name": "stdout",
     "output_type": "stream",
     "text": [
      "Seconds in 42min 42sec: 2562\n",
      "Miles in 10km: 6.21\n",
      "Average pace is 6:53 per mile\n",
      "Average Speed: 8.7 mph\n"
     ]
    }
   ],
   "source": [
    "print('Seconds in 42min 42sec:', 42*60+42)   \n",
    "\n",
    "print('Miles in 10km:', round(10/1.61, 2))\n",
    "\n",
    "(2562/6.21/60)\n",
    "(.88*60)\n",
    "\n",
    "print('Average pace is 6:53 per mile')\n",
    "\n",
    "(6.21/(2562/3600))\n",
    "print('Average Speed:', 8.7, 'mph')"
   ]
  },
  {
   "cell_type": "markdown",
   "metadata": {},
   "source": []
  },
  {
   "cell_type": "markdown",
   "metadata": {},
   "source": [
    "## Chapter 2"
   ]
  },
  {
   "cell_type": "markdown",
   "metadata": {},
   "source": [
    "### Exercise\n",
    "\n",
    "Assume that we execute the following assignment statements:\n",
    "\n",
    "```\n",
    "width = 17\n",
    "height = 12.0\n",
    "delimiter = '.'\n",
    "```\n",
    "\n",
    "For each of the following expressions, write the value of the expression and the type (of the value of the expression).\n",
    "\n",
    "Example: `width * 2` <br/>\n",
    "Answer: 34, integer\n",
    "\n",
    "1. `width/2`\n",
    "2. `width/2.0`\n",
    "3. `height/3`\n",
    "4. `1 + 2 * 5`\n",
    "5. `delimiter * 5`\n",
    "\n",
    "Please use the following markdown cell to provide your answer."
   ]
  },
  {
   "cell_type": "markdown",
   "metadata": {
    "collapsed": false
   },
   "source": [
    "width = 17\n",
    "height = 12.0\n",
    "delimiter = '.'\n",
    "\n",
    "1. 9, integer\n",
    "2. 8.5, float\n",
    "3. 4.0, float\n",
    "4. 11, integer\n",
    "5. '...', string"
   ]
  },
  {
   "cell_type": "code",
   "execution_count": null,
   "metadata": {
    "collapsed": true
   },
   "outputs": [],
   "source": []
  },
  {
   "cell_type": "markdown",
   "metadata": {},
   "source": [
    "### Exercise 2.2\n",
    "\n",
    "Practice using the Python interpreter as a calculator.  For each of these provide Python code that computes each answer."
   ]
  },
  {
   "cell_type": "markdown",
   "metadata": {},
   "source": [
    "The volume of a sphere with radius r is $4/3 \\pi  r^3$. What is the volume of a sphere with radius 5? <br />\n",
    "Hint: 392.7 is wrong! You can approximate pi with 3.14 or import it through the Python math library."
   ]
  },
  {
   "cell_type": "code",
   "execution_count": 44,
   "metadata": {
    "collapsed": false
   },
   "outputs": [
    {
     "name": "stdout",
     "output_type": "stream",
     "text": [
      "523.33\n"
     ]
    }
   ],
   "source": [
    "r = 5\n",
    "pi = 3.14\n",
    "\n",
    "volume = (4*pi*r**3)/3\n",
    "print(round(volume, 2))"
   ]
  },
  {
   "cell_type": "markdown",
   "metadata": {},
   "source": [
    "Suppose the cover price of a book is \\$24.95, but bookstores get a 40% discount. Shipping costs \\$3 for the first copy and 75 cents for each additional copy. What is the total wholesale cost for 60 copies?"
   ]
  },
  {
   "cell_type": "code",
   "execution_count": 50,
   "metadata": {
    "collapsed": false
   },
   "outputs": [
    {
     "name": "stdout",
     "output_type": "stream",
     "text": [
      "946.2\n"
     ]
    }
   ],
   "source": [
    "n = 60\n",
    "book = 24.95*n\n",
    "discount = 0.6\n",
    "shipping = 3 + .75*n\n",
    "\n",
    "totalprice = book*discount + shipping\n",
    "print(round(totalprice, 2))"
   ]
  },
  {
   "cell_type": "markdown",
   "metadata": {},
   "source": [
    "If I leave my house at 6:52 am and run 1 mile at an easy pace (8:15 per mile), then 3 miles at tempo (7:12 per mile) and 1 mile at easy pace again, what time do I get home for breakfast? "
   ]
  },
  {
   "cell_type": "code",
   "execution_count": 58,
   "metadata": {
    "collapsed": false
   },
   "outputs": [
    {
     "name": "stdout",
     "output_type": "stream",
     "text": [
      "8 : 30 a.m.\n"
     ]
    }
   ],
   "source": [
    "easypace = 8 + (15/60)\n",
    "tempopace = 7 + (12/60)\n",
    "\n",
    "origtime = 6*60 + 52\n",
    "hometime = origtime + 2*easypace + 3*tempopace\n",
    "hours = int(round(hometime/60, 0))\n",
    "minutes = int(round(hometime%60, 0))\n",
    "print(hours, ':', minutes, 'a.m.')"
   ]
  },
  {
   "cell_type": "markdown",
   "metadata": {},
   "source": []
  },
  {
   "cell_type": "markdown",
   "metadata": {},
   "source": [
    "## Chapter 3"
   ]
  },
  {
   "cell_type": "markdown",
   "metadata": {},
   "source": [
    "### Exercise 3.1\n",
    "\n",
    "Write a function named `right_justify` that takes a string named s as a parameter and prints the string with enough leading spaces so that the last letter of the string is in column 70 of the display.\n",
    "\n",
    "```\n",
    ">>> right_justify('monty')\n",
    "                                                                 monty\n",
    "```\n",
    "Hint: Use string concatenation and repetition. Also, Python provides a built-in function called `len` that returns the length of a string, so the value of `len('monty')` is 5."
   ]
  },
  {
   "cell_type": "code",
   "execution_count": 71,
   "metadata": {
    "collapsed": false
   },
   "outputs": [
    {
     "name": "stdout",
     "output_type": "stream",
     "text": [
      "                                                             bleepbloop\n"
     ]
    }
   ],
   "source": [
    "def right_justify(s):\n",
    "    space = ' '\n",
    "    print((70-len(s))*space, s)\n",
    "\n",
    "right_justify('bleepbloop')"
   ]
  },
  {
   "cell_type": "markdown",
   "metadata": {},
   "source": [
    "### Exercise 3.3\n",
    "\n",
    "Note: This exercise should be done using only the statements and other features we have learned so far.\n",
    "\n",
    "1\\. Write a function that draws a grid like the following:\n",
    "\n",
    "```\n",
    "+ - - - - + - - - - +\n",
    "|         |         |\n",
    "|         |         |\n",
    "|         |         |\n",
    "|         |         |\n",
    "+ - - - - + - - - - +\n",
    "|         |         |\n",
    "|         |         |\n",
    "|         |         |\n",
    "|         |         |\n",
    "+ - - - - + - - - - +\n",
    "```\n",
    "Note: There are four empty spaces between the vertical bars.\n",
    "\n",
    "To print more than one value on a line, you can print a comma-separated sequence of values:\n",
    "\n",
    "```\n",
    "print('+', '-')\n",
    "```\n",
    "\n",
    "By default, `print` advances to the next line, but you can override that behavior and put a space at the end, like this:\n",
    "\n",
    "```\n",
    "print('+', end=' ')\n",
    "print('-')\n",
    "```\n",
    "\n",
    "The output of these statements is '+ -'.\n",
    "\n",
    "A `print` statement with no argument ends the current line and goes to the next line."
   ]
  },
  {
   "cell_type": "code",
   "execution_count": 82,
   "metadata": {
    "collapsed": false
   },
   "outputs": [
    {
     "name": "stdout",
     "output_type": "stream",
     "text": [
      "+ - - - - + - - - - +\n",
      "|         |         |\n",
      "|         |         |\n",
      "|         |         |\n",
      "|         |         |\n",
      "+ - - - - + - - - - +\n",
      "|         |         |\n",
      "|         |         |\n",
      "|         |         |\n",
      "|         |         |\n",
      "+ - - - - + - - - - +\n"
     ]
    }
   ],
   "source": [
    "dashbar = '- - - -'\n",
    "spacebar = '       '\n",
    "plus = '+'\n",
    "vert = '|'\n",
    "space = ' '\n",
    "\n",
    "def horizontal_bar():\n",
    "    print(plus, dashbar, plus, dashbar, plus)\n",
    "    \n",
    "def vert_bar_line():\n",
    "    print(vert, spacebar, vert, spacebar, vert)\n",
    "    \n",
    "def vert_bar_set():\n",
    "    vert_bar_line()\n",
    "    vert_bar_line()\n",
    "    vert_bar_line()\n",
    "    vert_bar_line()\n",
    "    \n",
    "horizontal_bar()\n",
    "vert_bar_set()\n",
    "horizontal_bar()\n",
    "vert_bar_set()\n",
    "horizontal_bar()"
   ]
  },
  {
   "cell_type": "markdown",
   "metadata": {},
   "source": [
    "2\\. Write a function that draws a similar grid with four rows and four columns."
   ]
  },
  {
   "cell_type": "code",
   "execution_count": 104,
   "metadata": {
    "collapsed": false
   },
   "outputs": [
    {
     "name": "stdout",
     "output_type": "stream",
     "text": [
      "+ - - - - + - - - - + - - - - + - - - - +\n",
      "|         |         |         |         |\n",
      "|         |         |         |         |\n",
      "|         |         |         |         |\n",
      "|         |         |         |         |\n",
      "+ - - - - + - - - - + - - - - + - - - - +\n",
      "|         |         |         |         |\n",
      "|         |         |         |         |\n",
      "|         |         |         |         |\n",
      "|         |         |         |         |\n",
      "+ - - - - + - - - - + - - - - + - - - - +\n",
      "|         |         |         |         |\n",
      "|         |         |         |         |\n",
      "|         |         |         |         |\n",
      "|         |         |         |         |\n",
      "+ - - - - + - - - - + - - - - + - - - - +\n",
      "|         |         |         |         |\n",
      "|         |         |         |         |\n",
      "|         |         |         |         |\n",
      "|         |         |         |         |\n",
      "+ - - - - + - - - - + - - - - + - - - - +\n"
     ]
    }
   ],
   "source": [
    "dashbar = '- - - -'\n",
    "plus = '+'\n",
    "spacebar = '       '\n",
    "vert = '|'\n",
    "space = ' '\n",
    "\n",
    "def horizontal_bar():\n",
    "    print(plus, dashbar, plus, dashbar, plus, dashbar, plus, dashbar, plus)\n",
    "    \n",
    "def vert_bar_line():\n",
    "    print(vert, spacebar, vert, spacebar, vert, spacebar, vert, spacebar, vert)\n",
    "    \n",
    "def vert_bar_set():\n",
    "    vert_bar_line()\n",
    "    vert_bar_line()\n",
    "    vert_bar_line()\n",
    "    vert_bar_line()\n",
    "    \n",
    "def window_row():\n",
    "    horizontal_bar()\n",
    "    vert_bar_set()\n",
    "\n",
    "window_row()\n",
    "window_row()\n",
    "window_row()\n",
    "window_row()\n",
    "horizontal_bar()"
   ]
  },
  {
   "cell_type": "markdown",
   "metadata": {},
   "source": [
    "## Chapter 5.1 - 5.7"
   ]
  },
  {
   "cell_type": "markdown",
   "metadata": {},
   "source": [
    "### Exercise 5.2\n",
    "\n",
    "Fermat’s Last Theorem says that there are no positive integers $a$, $b$, and $c$ such that $$a^n + b^n = c^n$$ for any values of $n$ greater than 2.\n",
    "\n",
    "1\\. Write a function named `check_fermat` that takes four parameters – $a$, $b$, $c$ and $n$ – and that checks to see if Fermat’s theorem holds. If n is greater than 2 and it turns out to be true that\n",
    "$a^n + b^n = c^n$, then the program should print: \"Holy smokes, Fermat was wrong!\" Otherwise the program should print: \"No, that doesn’t work.\""
   ]
  },
  {
   "cell_type": "code",
   "execution_count": 108,
   "metadata": {
    "collapsed": false
   },
   "outputs": [
    {
     "name": "stdout",
     "output_type": "stream",
     "text": [
      "No, that does not work\n",
      "No, that does not work\n",
      "No, that does not work\n",
      "No, that does not work\n",
      "No, that does not work\n",
      "No, that does not work\n",
      "No, that does not work\n",
      "No, that does not work\n",
      "No, that does not work\n",
      "No, that does not work\n",
      "No, that does not work\n",
      "No, that does not work\n",
      "No, that does not work\n",
      "No, that does not work\n",
      "No, that does not work\n",
      "No, that does not work\n",
      "No, that does not work\n",
      "No, that does not work\n"
     ]
    }
   ],
   "source": [
    "a = 3\n",
    "b = 4\n",
    "c = 5\n",
    "n = 3\n",
    "\n",
    "def check_fermat(n):\n",
    "    if n <=20:\n",
    "        if a**n + b**n != c**n:\n",
    "            print('No, that does not work')\n",
    "            check_fermat(n+1)\n",
    "        else:\n",
    "            print('Holy smokes, Fermat was wrong!')\n",
    "            \n",
    "check_fermat(n)\n",
    "    "
   ]
  },
  {
   "cell_type": "markdown",
   "metadata": {},
   "source": [
    "2\\. Write a function that prompts the user to input values for $a$, $b$, $c$ and $n$, converts them to integers, and uses `check_fermat` to check whether they violate Fermat’s theorem."
   ]
  },
  {
   "cell_type": "code",
   "execution_count": 114,
   "metadata": {
    "collapsed": false
   },
   "outputs": [
    {
     "name": "stdout",
     "output_type": "stream",
     "text": [
      "3\n",
      "4\n",
      "5\n",
      "No, that does not work\n",
      "No, that does not work\n",
      "No, that does not work\n",
      "No, that does not work\n",
      "No, that does not work\n",
      "No, that does not work\n",
      "No, that does not work\n",
      "No, that does not work\n",
      "No, that does not work\n",
      "No, that does not work\n",
      "No, that does not work\n",
      "No, that does not work\n",
      "No, that does not work\n",
      "No, that does not work\n",
      "No, that does not work\n",
      "No, that does not work\n",
      "No, that does not work\n",
      "No, that does not work\n"
     ]
    }
   ],
   "source": [
    "n = 3\n",
    "\n",
    "def check_fermat(a, b, c, n):\n",
    "    if n <=20:\n",
    "        if a**n + b**n != c**n:\n",
    "            print('No, that does not work')\n",
    "            check_fermat(a, b, c, n+1)\n",
    "        else:\n",
    "            print('Holy smokes, Fermat was wrong!')\n",
    "            \n",
    "a = int(input())\n",
    "b = int(input())\n",
    "c = int(input())\n",
    "check_fermat(a, b, c, n)\n",
    "    "
   ]
  },
  {
   "cell_type": "markdown",
   "metadata": {},
   "source": [
    "### Exercise 5.3 \n",
    "\n",
    "If you are given three sticks, you may or may not be able to arrange them in a triangle. For example, if one of the sticks is 12 inches long and the other two are one inch long, it is clear that you will not be able to get the short sticks to meet in the middle. For any three lengths, there is a simple test to see if it is possible to form a triangle:\n",
    "> If any of the three lengths is greater than the sum of the other two, then you cannot form a triangle. Otherwise, you can. (If the sum of two lengths equals the third, they form what is called a “degenerate” triangle.)\n",
    "\n",
    "1\\. Write a function named `is_triangle` that takes three integers as arguments, and that prints either \"Yes\" or \"No,\" depending on whether you can or cannot form a triangle from sticks with the given lengths."
   ]
  },
  {
   "cell_type": "code",
   "execution_count": 118,
   "metadata": {
    "collapsed": false
   },
   "outputs": [
    {
     "name": "stdout",
     "output_type": "stream",
     "text": [
      "It is not a triangle D:\n"
     ]
    }
   ],
   "source": [
    "a = 2\n",
    "b = 6\n",
    "c = 10\n",
    "\n",
    "def is_triangle():\n",
    "    if a+b >= c:\n",
    "        if a+c >= b:\n",
    "            if c+b >= a:\n",
    "                print('It is a triangle! :D')\n",
    "    else:\n",
    "        print('It is not a triangle D:')\n",
    "        \n",
    "is_triangle()"
   ]
  },
  {
   "cell_type": "markdown",
   "metadata": {},
   "source": [
    "2\\. Write a function that prompts the user to input three stick lengths, converts them to integers, and uses `is_triangle` to check whether sticks with the given lengths can form a triangle."
   ]
  },
  {
   "cell_type": "code",
   "execution_count": 119,
   "metadata": {
    "collapsed": false
   },
   "outputs": [
    {
     "name": "stdout",
     "output_type": "stream",
     "text": [
      "4\n",
      "7\n",
      "3\n",
      "It is a triangle! :D\n"
     ]
    }
   ],
   "source": [
    "def is_triangle():\n",
    "    if a+b >= c:\n",
    "        if a+c >= b:\n",
    "            if c+b >= a:\n",
    "                print('It is a triangle! :D')\n",
    "    else:\n",
    "        print('It is not a triangle D:')\n",
    "\n",
    "a = int(input())\n",
    "b = int(input())\n",
    "c = int(input())\n",
    "is_triangle()"
   ]
  },
  {
   "cell_type": "markdown",
   "metadata": {},
   "source": [
    "## Quick poll\n",
    "About how long did you spend working on this Reading Journal?\n",
    "\n",
    "About 7 hours..."
   ]
  },
  {
   "cell_type": "markdown",
   "metadata": {},
   "source": []
  },
  {
   "cell_type": "markdown",
   "metadata": {},
   "source": [
    "## Notes for the Instructors\n",
    "\n",
    "Please use the space below to write comments to help us plan the next class session.  For instance, if you want to see us go over an example of a particular type of problem, you can indicate that here.\n",
    "\n",
    "Please remember that the best way to get quick feedback from the instructors as well as your peers, is to use Piazza.  However, consider using this channel if it doesn't make sense to post your note to Piazza.\n",
    "\n",
    "I appreciate the step-by-step guides of learning how to use Python; that part is fine. What would be most helpful is a general overview of where everything is, how to switch between working in the terminal to working in Jupyter and how to switch back; what emps(?) and atom(?) are and if/how/why we use them. "
   ]
  },
  {
   "cell_type": "markdown",
   "metadata": {},
   "source": []
  }
 ],
 "metadata": {
  "kernelspec": {
   "display_name": "Python 3",
   "language": "python",
   "name": "python3"
  },
  "language_info": {
   "codemirror_mode": {
    "name": "ipython",
    "version": 3
   },
   "file_extension": ".py",
   "mimetype": "text/x-python",
   "name": "python",
   "nbconvert_exporter": "python",
   "pygments_lexer": "ipython3",
   "version": "3.5.2"
  }
 },
 "nbformat": 4,
 "nbformat_minor": 0
}
