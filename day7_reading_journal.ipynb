{
 "cells": [
  {
   "cell_type": "markdown",
   "metadata": {},
   "source": [
    "# Day 7 Reading Journal\n",
    "\n",
    "This journal includes several required exercises, but it is meant to encourage active reading more generally.  You should use the journal to take detailed notes, catalog questions, and explore the content from Think Python deeply.\n",
    "\n",
    "Reading: Think Python Chapter 11, 12\n",
    "\n",
    "**Due: Monday, February 13 at 12 noon**\n",
    "\n"
   ]
  },
  {
   "cell_type": "markdown",
   "metadata": {},
   "source": [
    "## [Chapter 11](http://www.greenteapress.com/thinkpython/html/thinkpython012.html)\n"
   ]
  },
  {
   "cell_type": "markdown",
   "metadata": {},
   "source": [
    "**Quick check:** In about one sentence using your own words, what is a dictionary?"
   ]
  },
  {
   "cell_type": "markdown",
   "metadata": {},
   "source": [
    "A dictionary is a list of keys and their corresponding values, so that when a key is called, its value is returned. "
   ]
  },
  {
   "cell_type": "markdown",
   "metadata": {},
   "source": [
    " "
   ]
  },
  {
   "cell_type": "markdown",
   "metadata": {
    "is_question": true,
    "problem": "Exercise 11.2"
   },
   "source": [
    "### Exercise 11.2  \n",
    "\n",
    "Dictionaries have a method called [`get`](https://docs.python.org/3/library/stdtypes.html#mapping-types-dict) that takes a key and a default value. If the key appears in the dictionary, `get` returns the corresponding value; otherwise it returns the default value. For example:\n",
    "\n",
    "```\n",
    ">>> h = histogram('a')\n",
    ">>> print h\n",
    "{'a': 1}\n",
    ">>> h.get('a', 0)\n",
    "1\n",
    ">>> h.get('b', 0)\n",
    "0\n",
    "```\n",
    "\n",
    "Use `get` to write `histogram` more concisely. You should be able to eliminate the `if` statement. Add unit tests for your histogram implementation."
   ]
  },
  {
   "cell_type": "code",
   "execution_count": 21,
   "metadata": {
    "collapsed": false,
    "solution": "Exercise 11.2"
   },
   "outputs": [
    {
     "data": {
      "text/plain": [
       "{'S': 1,\n",
       " 'a': 3,\n",
       " 'c': 3,\n",
       " 'd': 1,\n",
       " 'e': 2,\n",
       " 'f': 1,\n",
       " 'g': 1,\n",
       " 'i': 7,\n",
       " 'l': 3,\n",
       " 'o': 2,\n",
       " 'p': 2,\n",
       " 'r': 2,\n",
       " 's': 2,\n",
       " 't': 1,\n",
       " 'u': 2,\n",
       " 'x': 1}"
      ]
     },
     "execution_count": 21,
     "metadata": {},
     "output_type": "execute_result"
    }
   ],
   "source": [
    "def histogram(s):\n",
    "    '''\n",
    "    >>>histogram('happy')\n",
    "    {'a': 1, 'h': 1, 'p': 2, 'y': 1}\n",
    "    '''\n",
    "    d = dict()\n",
    "    for c in s:\n",
    "        d[c] = d.get(c,0)\n",
    "        d[c] += 1\n",
    "    return d\n",
    "\n",
    "histogram('Supercalifragilisticexpialidocious')"
   ]
  },
  {
   "cell_type": "markdown",
   "metadata": {},
   "source": [
    " "
   ]
  },
  {
   "cell_type": "markdown",
   "metadata": {
    "is_question": true,
    "problem": "Exercise 11.4"
   },
   "source": [
    "### Exercise 11.4  \n",
    "\n",
    "Modify `reverse_lookup` so that it builds and returns a list of all keys that map to `v`, or an empty list if there are none. Add unit tests for your implementation."
   ]
  },
  {
   "cell_type": "code",
   "execution_count": 27,
   "metadata": {
    "collapsed": false,
    "solution": "Exercise 11.4"
   },
   "outputs": [
    {
     "data": {
      "text/plain": [
       "['s', 'p']"
      ]
     },
     "execution_count": 27,
     "metadata": {},
     "output_type": "execute_result"
    }
   ],
   "source": [
    "def reverse_lookup(d, v):\n",
    "    '''>>>reverse_lookup(histogram('happiness'), 2)\n",
    "    ['s', 'p']\n",
    "    '''\n",
    "    keys_mapped_to_v = []\n",
    "    for k in d:\n",
    "        if d[k] == v:\n",
    "            keys_mapped_to_v.append(k)\n",
    "    return keys_mapped_to_v\n",
    "\n",
    "hist = histogram('happiness')\n",
    "reverse_lookup(hist, 2)"
   ]
  },
  {
   "cell_type": "markdown",
   "metadata": {},
   "source": [
    "If you'd like to learn more about errors and exceptions, you can check out the [Python tutorial](https://docs.python.org/3/tutorial/errors.html) or read ahead to [Appendix A](http://www.greenteapress.com/thinkpython2/html/thinkpython2021.html) of Think Python. If you choose to use doctest for your unit testing, it can also [deal with exceptions](https://docs.python.org/3/library/doctest.html#what-about-exceptions)."
   ]
  },
  {
   "cell_type": "markdown",
   "metadata": {},
   "source": [
    " "
   ]
  },
  {
   "cell_type": "markdown",
   "metadata": {},
   "source": [
    "**Quick check** What type of objects can be used as keys to a dictionary, i.e. what property must they have?"
   ]
  },
  {
   "cell_type": "markdown",
   "metadata": {},
   "source": [
    "keys must be hashable, or immutable"
   ]
  },
  {
   "cell_type": "markdown",
   "metadata": {},
   "source": [
    " "
   ]
  },
  {
   "cell_type": "markdown",
   "metadata": {
    "is_question": true,
    "problem": "Exercise 11.6"
   },
   "source": [
    "### Exercise 11.6 (modified)\n",
    "\n",
    "Create a memoized version of your Levenshtein distance function from Day 7. What kind of performance change do you see?\n",
    "\n",
    "Optional: If you'd like to get some quantitative results, you could check out the [timeit](https://docs.python.org/3/library/timeit.html) module\n",
    "\n",
    "Note: You can also study Fibonacci here if you prefer."
   ]
  },
  {
   "cell_type": "code",
   "execution_count": 45,
   "metadata": {
    "collapsed": false,
    "solution": "Exercise 11.6"
   },
   "outputs": [
    {
     "data": {
      "text/plain": [
       "14930352"
      ]
     },
     "execution_count": 45,
     "metadata": {},
     "output_type": "execute_result"
    }
   ],
   "source": [
    "list_of_ns = {0:0, 1:1}\n",
    "\n",
    "def fibonnaci(n):\n",
    "    if n in list_of_ns:\n",
    "        return list_of_ns[n]\n",
    "    answer = fibonnaci(n-1) + fibonnaci(n-2)\n",
    "    list_of_ns[n] = answer\n",
    "    return answer\n",
    "    \n",
    "fibonnaci(36)"
   ]
  },
  {
   "cell_type": "markdown",
   "metadata": {},
   "source": [
    "fibonnaci(36) took appx. 5 seconds to complete with the original code, and it took less than one second with this new code. "
   ]
  },
  {
   "cell_type": "markdown",
   "metadata": {},
   "source": [
    "## [Chapter 12](http://www.greenteapress.com/thinkpython2/html/thinkpython2013.html)\n",
    "\n",
    "**Quick check:** In about one sentence using your own words, what is a tuple?"
   ]
  },
  {
   "cell_type": "markdown",
   "metadata": {},
   "source": [
    "a tuple is an immutable list of elements separated by commas. "
   ]
  },
  {
   "cell_type": "markdown",
   "metadata": {},
   "source": [
    " "
   ]
  },
  {
   "cell_type": "markdown",
   "metadata": {
    "is_question": true,
    "problem": "Exercise 12.1"
   },
   "source": [
    "### Chapter 12.4  \n",
    "\n",
    "Many of the built-in functions use variable-length argument tuples. For example, `max` and `min` can take any number of arguments:\n",
    "\n",
    "```\n",
    ">>> max(1,2,3)\n",
    "3\n",
    "```\n",
    "\n",
    "But `sum` does not.\n",
    "\n",
    "```\n",
    ">>> sum(1,2,3)\n",
    "TypeError: sum expected at most 2 arguments, got 3\n",
    "```\n",
    "\n",
    "Write a function called ```sumall``` that takes any number of arguments and returns their sum. \n",
    "\n",
    "Write unit tests for your function. Do I actually need to keep saying this? Let's assume it's always a good idea :)"
   ]
  },
  {
   "cell_type": "code",
   "execution_count": 1,
   "metadata": {
    "collapsed": false,
    "solution": "Exercise 12.1"
   },
   "outputs": [
    {
     "data": {
      "text/plain": [
       "10"
      ]
     },
     "execution_count": 1,
     "metadata": {},
     "output_type": "execute_result"
    }
   ],
   "source": [
    "t = (1, 2, 3, 4)\n",
    "\n",
    "def sumall(t):\n",
    "    sum = 0 \n",
    "    for element in t:\n",
    "        sum = sum + element\n",
    "    return sum\n",
    "    \n",
    "sumall(t)"
   ]
  },
  {
   "cell_type": "markdown",
   "metadata": {},
   "source": [
    "If you're interested in more flexible ways to pass arguments to functions, check out the [Python tutorial](https://docs.python.org/3/tutorial/controlflow.html#more-on-defining-functions). For instance, you can also use keyword arguments, which are collected into a dictionary just like `*` gathers variable numbers of positional arguments into a tuple.\n",
    "\n",
    "This pattern is very common for defining functions with complex optional behaviors in Python, and you will often see definitions like:\n",
    "\n",
    "```\n",
    "def my_func(required_argument1, *arguments, **keywords):\n",
    "    ...\n",
    "```"
   ]
  },
  {
   "cell_type": "markdown",
   "metadata": {},
   "source": [
    " "
   ]
  },
  {
   "cell_type": "markdown",
   "metadata": {
    "is_question": true,
    "problem": "Exercise 12 sort"
   },
   "source": [
    "### Exercise\n",
    "\n",
    "Write a function `sort_by_last_letter` that takes a list of words and returns a new list with the words sorted alphabetically by the _last letter_ in the word. Hint: use the **Decorate, Sort, Undecorate** pattern. Write unit tests for your function."
   ]
  },
  {
   "cell_type": "code",
   "execution_count": 43,
   "metadata": {
    "collapsed": false,
    "solution": "Exercise 12 sort"
   },
   "outputs": [
    {
     "name": "stdout",
     "output_type": "stream",
     "text": [
      "['era', 'decade', 'century']\n"
     ]
    }
   ],
   "source": [
    "def sort_by_last_letter(*t):\n",
    "    '''\n",
    "    >>>sort_by_last_letter('century', 'era', 'decade')\n",
    "    ['era', 'decade', 'century']\n",
    "    '''\n",
    "    words = list(t)\n",
    "    last_letters = []\n",
    "    new_list = []\n",
    "    \n",
    "    for element in words:\n",
    "        last_letters.append(element[-1])\n",
    "    dict_all = dict(zip(last_letters, words))\n",
    "    last_letters.sort()\n",
    "    \n",
    "    for element in last_letters:\n",
    "        new_list.append(dict_all[element])\n",
    "        \n",
    "    print(new_list)\n",
    "\n",
    "sort_by_last_letter('century', 'era', 'decade')"
   ]
  },
  {
   "cell_type": "markdown",
   "metadata": {},
   "source": [
    "I spent way too long on this and can't figure out how to input a list instead :/"
   ]
  },
  {
   "cell_type": "markdown",
   "metadata": {},
   "source": [
    "**Quick check** Give an example of when you might use each sequence type:\n",
    "\n",
    "- tuple\n",
    "\n",
    "- list\n",
    "\n",
    "- string"
   ]
  },
  {
   "cell_type": "markdown",
   "metadata": {},
   "source": [
    "tuple: can be used easily for parameters of a function\n",
    "list: if you need to be able to change the order\n",
    "string: can be used as a key for a dictionary because it's immutable"
   ]
  },
  {
   "cell_type": "markdown",
   "metadata": {},
   "source": [
    " "
   ]
  },
  {
   "cell_type": "markdown",
   "metadata": {
    "is_question": true,
    "problem": "Exercise 12.3"
   },
   "source": [
    "### Exercise 12.1 \n",
    "\n",
    "Write a function called `most_frequent` that takes a string and prints the letters in decreasing order of frequency. Find text samples from several different languages and see how letter frequency varies between languages. Compare your results with the tables at http://en.wikipedia.org/wiki/Letter_frequencies. \n",
    "\n",
    "Allen's solution (try it on your own first): http://greenteapress.com/thinkpython2/code/most_frequent.py. "
   ]
  },
  {
   "cell_type": "code",
   "execution_count": 66,
   "metadata": {
    "collapsed": false,
    "solution": "Exercise 12.3"
   },
   "outputs": [
    {
     "name": "stdout",
     "output_type": "stream",
     "text": [
      "German\n",
      "n\n",
      "z\n",
      "p\n",
      "r\n",
      "t\n",
      "i\n",
      "d\n",
      "y\n",
      "s\n",
      "a\n",
      "l\n",
      "u\n",
      "j\n",
      "g\n",
      "h\n",
      "ö\n",
      "ä\n",
      "o\n",
      "m\n",
      "f\n",
      "e\n",
      "c\n",
      "w\n",
      "v\n",
      " \n",
      "b\n",
      "k\n",
      "ü\n",
      ".\n",
      "Polish\n",
      "m\n",
      "l\n",
      "j\n",
      "g\n",
      " \n",
      "ń\n",
      "ę\n",
      " \n",
      "o\n",
      "i\n",
      "e\n",
      "ó\n",
      "h\n",
      "z\n",
      "a\n",
      "r\n",
      "w\n",
      ".\n",
      ",\n",
      "ż\n",
      "ą\n",
      "u\n",
      "k\n",
      "n\n",
      "s\n",
      "d\n",
      "ł\n",
      "c\n",
      "p\n",
      "y\n",
      "t\n",
      "b\n",
      "-\n",
      "Italian\n",
      "g\n",
      "f\n",
      "b\n",
      " \n",
      "h\n",
      ",\n",
      ".\n",
      "o\n",
      "i\n",
      "a\n",
      "v\n",
      "r\n",
      "e\n",
      "n\n",
      "l\n",
      "t\n",
      "ò\n",
      "ì\n",
      "é\n",
      "z\n",
      "y\n",
      "q\n",
      "k\n",
      "s\n",
      "d\n",
      "p\n",
      "c\n",
      "u\n",
      "m\n"
     ]
    }
   ],
   "source": [
    "def most_frequent(s):\n",
    "    '''\n",
    "    >>>most_frequent('happy')\n",
    "    '''\n",
    "    s = s.lower()\n",
    "    d = dict()\n",
    "    for c in s:\n",
    "        d[c] = d.get(c,0)\n",
    "        d[c] += 1\n",
    "    \n",
    "    freq_list = []\n",
    "    for key in d:\n",
    "        freq_list.append(str(d[key]) + key)\n",
    "    freq_list.sort()\n",
    "    freq_list.reverse()\n",
    "    for element in freq_list:\n",
    "        print(element[-1])\n",
    "\n",
    "print('German')\n",
    "most_frequent('Gegründet wurde sie mit dem Erbe des Haarlemmer Tuch und SeidenhändlersBankiers und Philanthropen Pieter Teyler van der Hlst im Jahrhunder Der Auftrag warter ondersteuning van behoeftigen en ter aanmoediging van godsdienst wetenschap en kunst deutsch zur Unterstützung der Bedürftigen und zur Förderung der Religion Wissenschaft und Kunst. Als Teyler van der Huls starb war er ohne Kinder oder enge Familie Er bestimmte in seinem letzten Willen wie das Erbe verwendet werden sollte Er hinterlie Geld für verschiedene Personen der Kirche und auch für die genannten gemeinnützigen Zwecke Angebliche Familienmitglieder haben behauptet dass das Testament von Teyler nur Jahre gelten sollte und das verbliebene Geld an die Familienmitglieder zurückfallen sollte Derartige Ansprüchen wurden von keinem Gericht anerkannt Die Stiftung wurde gegründet von fünf Freunden von Teyler die seine Testamentsvollstrecker und auch die ersten Direktoren Vorstandsmitglieder der Stiftung waren')\n",
    "print('Polish')\n",
    "most_frequent('Był członkiem Rady Izby Lekarskiej Poznańsko-Pomorskiejoraz rzeczoznawcą Wyższego Urzędu Ubezpieczeń w Toruniu i biegłym dla Urzędu Skarbowego w Toruniu W sierpniu roku powołany do wojska, brał udział w bitwie pod Kutnem, gdzie dostał się do niewoli. Do końca  roku przebywał w obozie jenieckim w Łodzi. Od  roku był organizatorem i dyrektorem szpitala rejonowego w Nowosiółkach w powiecie złoczowskimW czerwcu  roku został podstępnie zwabiony do lasu i zamordowany przez ukraińskich nacjonalistów ')\n",
    "print('Italian')\n",
    "most_frequent('Poco dopo la nascita di Fermor, sua madre partì per raggiungere il marito in India, lasciandolo in Inghilterra presso unaltra famiglia. Da bambino, Leigh Fermor incontrò problemi ad affrontare le costrizioni del mondo scolastico. Per questo motivo fu mandato in una scuola per bambini problematici. In seguito, fu espulso dalla The Kings School di Canterbury, perché scoperto a tenersi per mano con la figlia di un fruttivendolo del posto.')"
   ]
  },
  {
   "cell_type": "markdown",
   "metadata": {},
   "source": [
    " "
   ]
  },
  {
   "cell_type": "markdown",
   "metadata": {
    "is_question": true,
    "problem": "Exercise 12.6"
   },
   "source": [
    "### Challenge: Exercise 12.4   (optional)\n",
    "\n",
    "From a [Car Talk Puzzler](http://www.cartalk.com/content/puzzlers):\n",
    "\n",
    "What is the longest English word, that remains a valid English word, as you remove its letters one at a time?\n",
    "\n",
    "Now, letters can be removed from either end, or the middle, but you can’t rearrange any of the letters. Every time you drop a letter, you wind up with another English word. If you do that, you’re eventually going to wind up with one letter and that too is going to be an English word—one that’s found in the dictionary. I want to know what’s the longest word and how many letters does it have?\n",
    "\n",
    "I’m going to give you a little modest example: Sprite. Ok? You start off with sprite, you take a letter off, one from the interior of the word, take the r away, and we’re left with the word spite, then we take the e off the end, we’re left with spit, we take the s off, we’re left with pit, it, and I. \n",
    "\n",
    "Write a program to find all words that can be reduced in this way, and then find the longest one.\n",
    "\n",
    "This exercise is a little more challenging than most, so here are some suggestions:\n",
    "\n",
    "- You might want to write a function that takes a word and computes a list of all the words that can be formed by removing one letter. These are the “children” of the word.\n",
    "- Recursively, a word is reducible if any of its children are reducible. As a base case, you can consider the empty string reducible.\n",
    "- The word list from [Chapter 9.1](http://www.greenteapress.com/thinkpython2/html/thinkpython2010.html) Exercise 1 doesn’t contain single letter words. So you might want to add “I”, “a”, and the empty string.\n",
    "- To improve the performance of your program, you might want to memoize the words that are known to be reducible.\n",
    "\n",
    "Allen's solution: http://greenteapress.com/thinkpython2/code/reducible.py."
   ]
  },
  {
   "cell_type": "code",
   "execution_count": null,
   "metadata": {
    "collapsed": true,
    "solution": "Exercise 12.6"
   },
   "outputs": [],
   "source": []
  },
  {
   "cell_type": "markdown",
   "metadata": {},
   "source": [
    " "
   ]
  },
  {
   "cell_type": "markdown",
   "metadata": {
    "is_question": true,
    "problem": "Feedback"
   },
   "source": [
    "## Reading Journal feedback\n",
    "\n",
    "[Please complete this short survey](https://docs.google.com/forms/d/e/1FAIpQLScQekhUrf6YYjpfQiAAbavLIA-IJklv_PX1BWbGgxj7JPolmw/viewform?c=0&w=1)\n",
    "\n",
    "If you have any comments on this Reading Journal, feel free to leave them in the survey linked above. This could include suggestions to improve the exercises, topics you'd like to see covered in class next time, or other feedback.\n",
    "\n",
    "If you have Python questions or run into problems while completing the reading, you should post them to Piazza instead so you can get a quick response before your journal is submitted."
   ]
  },
  {
   "cell_type": "markdown",
   "metadata": {
    "feedback_response": true,
    "solution": "Feedback"
   },
   "source": [
    " "
   ]
  }
 ],
 "metadata": {
  "kernelspec": {
   "display_name": "Python 3",
   "language": "python",
   "name": "python3"
  },
  "language_info": {
   "codemirror_mode": {
    "name": "ipython",
    "version": 3
   },
   "file_extension": ".py",
   "mimetype": "text/x-python",
   "name": "python",
   "nbconvert_exporter": "python",
   "pygments_lexer": "ipython3",
   "version": "3.4.3"
  }
 },
 "nbformat": 4,
 "nbformat_minor": 0
}
