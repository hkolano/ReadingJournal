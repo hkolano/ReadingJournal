{
 "cells": [
  {
   "cell_type": "markdown",
   "metadata": {},
   "source": [
    "# Day 5 Reading Journal\n",
    "\n",
    "This journal includes several required exercises, but it is meant to encourage active reading more generally.  You should use the journal to take detailed notes, catalog questions, and explore the content from Think Python deeply.\n",
    "\n",
    "Reading: Think Python Chapter 4\n",
    "\n",
    "**Due: Thursday, February 2 at 12 noon**\n",
    "\n"
   ]
  },
  {
   "cell_type": "markdown",
   "metadata": {},
   "source": [
    "## [Chapter 4](http://www.greenteapress.com/thinkpython2/html/thinkpython2005.html)\n",
    "\n",
    "In today's reading, you will be exploring the turtle module, which allows you to create images using turtle graphics. The turtle module is included in most Python installations, and you did a quick test with it during the Get Set assignment.\n",
    "\n",
    "### Turtle wrangling\n",
    "\n",
    "You can always run your code as separate Python scripts, but here are a few tips for mixing Turtle with Jupyter notebook:\n",
    "\n",
    " - Turtle will appear in a new GUI window, rather than inline in the notebook like typical results do\n",
    " - You will not be able to close the Turtle window unless you run `turtle.mainloop()` as the last line of your code."
   ]
  },
  {
   "cell_type": "markdown",
   "metadata": {},
   "source": [
    "### Get started\n",
    "\n",
    "Run the code in the cell below and make sure everything works. You should see brave Bob spring into the world and run forward. You can close the window when you're done by clicking on the 'X'. If this simple test doesn't work, check your Python3 install (especially if you get an `ImportError`) and ask for help."
   ]
  },
  {
   "cell_type": "code",
   "execution_count": 2,
   "metadata": {
    "collapsed": false
   },
   "outputs": [],
   "source": [
    "import turtle\n",
    "\n",
    "# Create the world, and a turtle to put in it\n",
    "bob = turtle.Turtle()\n",
    "\n",
    "# Get moving, turtle!\n",
    "bob.fd(100)\n",
    "\n",
    "# Wait for the user to close the window\n",
    "turtle.mainloop()"
   ]
  },
  {
   "cell_type": "markdown",
   "metadata": {
    "is_question": true,
    "problem": "Section 4.3"
   },
   "source": [
    "### Chapter 4.3\n",
    "Work through exercises 1-5 in Chapter 4.3, creating the `square`, `polygon`, `circle`, and `arc` functions. You can reference Allen's solutions, but please try the problems on your own first."
   ]
  },
  {
   "cell_type": "code",
   "execution_count": 3,
   "metadata": {
    "collapsed": false,
    "solution": "Section 4.3"
   },
   "outputs": [
    {
     "name": "stdout",
     "output_type": "stream",
     "text": [
      "<turtle.Turtle object at 0x7f256c1e9898>\n"
     ]
    }
   ],
   "source": [
    "#exercise 1:\n",
    "\n",
    "import turtle\n",
    "bob = turtle.Turtle()\n",
    "print(bob)\n",
    "\n",
    "def square(t):\n",
    "    for i in range(4):\n",
    "        bob.fd(100)\n",
    "        bob.lt(90)\n",
    "\n",
    "square(bob)\n",
    "turtle.mainloop()\n",
    "\n",
    "\n",
    "\n",
    "#exercise 2\n",
    "import turtle\n",
    "bob = turtle.Turtle()\n",
    "print(bob)\n",
    "\n",
    "def square(t, length):\n",
    "    for i in range(4):\n",
    "        t.fd(length)\n",
    "        t.lt(90)\n",
    "\n",
    "square(bob, 20)\n",
    "turtle.mainloop()\n",
    "\n",
    "\n",
    "\n",
    "#exercise 3\n",
    "import turtle\n",
    "bob = turtle.Turtle()\n",
    "print(bob)\n",
    "\n",
    "def polygon(t, length, n):\n",
    "    angle = (360 / n)\n",
    "    for i in range(n):\n",
    "        t.fd(length)\n",
    "        t.lt(angle)\n",
    "\n",
    "polygon(bob, 75, 7)\n",
    "turtle.mainloop()\n",
    "\n",
    "\n",
    "\n",
    "#exercise 4\n",
    "import turtle\n",
    "bob = turtle.Turtle()\n",
    "print(bob)\n",
    "\n",
    "\n",
    "def circle(t, n, r):\n",
    "    circumference = 2*r*3.14\n",
    "    length = circumference / n\n",
    "    angle = (360 / n)\n",
    "    for i in range(n):\n",
    "        t.fd(length)\n",
    "        t.lt(angle)\n",
    "\n",
    "\n",
    "circle(bob, 100, 100)\n",
    "turtle.mainloop()\n",
    "\n",
    "\n",
    "\n",
    "\n",
    "#exercise 5\n",
    "import turtle\n",
    "bob = turtle.Turtle()\n",
    "print(bob)\n",
    "\n",
    "\n",
    "def arc(t, n, r, arcangle):\n",
    "    circumference = 2*r*3.14\n",
    "    length = circumference / n\n",
    "    angle = (360 / n)\n",
    "    for i in range(int(n*arcangle/360)):\n",
    "        t.fd(length)\n",
    "        t.lt(angle)\n",
    "\n",
    "\n",
    "arc(bob, 100, 100, 290)\n",
    "turtle.mainloop()"
   ]
  },
  {
   "cell_type": "markdown",
   "metadata": {
    "is_question": true,
    "problem": "More fun"
   },
   "source": [
    "### Chapter 4.12\n",
    "#### More fun with Turtles!\n",
    "Complete at least one of Exercise 2, 3, 4, or 5. If you come up with some cool drawings you'd like to share with the rest of the class, let us know!"
   ]
  },
  {
   "cell_type": "code",
   "execution_count": null,
   "metadata": {
    "collapsed": true,
    "solution": "More fun"
   },
   "outputs": [],
   "source": [
    "#I did exercise 2. It's super versatile... you can put in any number of 'petals', any length, and any width \n",
    "#(as determined by the angle of the end of the petal). There are a couple of interesting combinations at the bottom\n",
    "# if you want to take a look. \n",
    "\n",
    "import turtle\n",
    "import math\n",
    "bob = turtle.Turtle()\n",
    "\n",
    "\n",
    "def calculations(r, theta):\n",
    "    '''\n",
    "    takes in (r), the desired radius of the flower\n",
    "    takes in (theta), half the desired angle of the petal\n",
    "    returns calc_values in list [line_len, line_angle]\n",
    "    line_len is the length of the individual little lines, line_angle is their angle\n",
    "    '''\n",
    "    theta_radians = theta * math.pi / 180\n",
    "    r_gauge = r/(2*math.cos(theta_radians))\n",
    "    arc_len = (2*r_gauge*math.pi)*((180-2*theta)/360)\n",
    "    line_len = arc_len / 90\n",
    "    line_angle = 2*theta / 90\n",
    "    calc_values = [line_len, line_angle]\n",
    "    return calc_values\n",
    "\n",
    "\n",
    "def half_petal(r, theta, bob):\n",
    "    '''    takes in radius (r), angle (theta) and bob(the turtle sim)\n",
    "    moves the turtle through the path of half the petal    '''\n",
    "    calc_values = calculations(r, theta)\n",
    "    line_len = calc_values[0]\n",
    "    line_angle = calc_values[1]\n",
    "    for i in range(90):\n",
    "        bob.fd(line_len)\n",
    "        bob.lt(line_angle)\n",
    "\n",
    "\n",
    "def petal_turn_outside(theta):\n",
    "    '''    takes in theta\n",
    "    rotates the turtle for the tip of the petal back towards the center    '''\n",
    "    bob.lt(180-2*theta)\n",
    "\n",
    "\n",
    "def petal_turn_inside(theta, num_petals):\n",
    "    '''    takes in angle (theta) and desired number of petals (num_petals)\n",
    "    rotates the turtle on the inside of the petal for the next petal    '''\n",
    "    bob.rt(180-((360-2*num_petals*theta)/num_petals))\n",
    "\n",
    "\n",
    "def draw_petal(r, theta, num_petals, bob):\n",
    "    '''    takes in radius, theta, num_petals, and bob\n",
    "    draws a complete petal    '''\n",
    "    half_petal(r, theta, bob)\n",
    "    petal_turn_outside(theta)\n",
    "    half_petal(r, theta, bob)\n",
    "    petal_turn_inside(theta, num_petals)\n",
    "\n",
    "\n",
    "def draw_flower(r, theta, num_petals, bob):\n",
    "    '''takes in radius, theta, num_petals, and bob\n",
    "    draws a complete flower'''\n",
    "    for i in range(num_petals):\n",
    "        draw_petal(r, theta, num_petals, bob)\n",
    "\n",
    "\n",
    "#This makes something cool \n",
    "draw_flower(300, 20, 3, bob)\n",
    "bob.rt(60)\n",
    "draw_flower(250, 20, 3, bob)\n",
    "bob.rt(30)\n",
    "draw_flower(200, 20, 6, bob)\n",
    "\n",
    "#this is also pretty cool \n",
    "'''\n",
    "draw_flower(300, 40, 6, bob)\n",
    "bob.rt(30)\n",
    "draw_flower(200, 40, 6, bob)\n",
    "bob.rt(30)\n",
    "draw_flower(100, 40, 6, bob)\n",
    "'''\n",
    "\n",
    "\n",
    "turtle.mainloop()\n"
   ]
  },
  {
   "cell_type": "markdown",
   "metadata": {},
   "source": [
    "## Reading Journal feedback\n",
    "\n",
    "[Please complete this short survey](https://docs.google.com/forms/d/e/1FAIpQLScQekhUrf6YYjpfQiAAbavLIA-IJklv_PX1BWbGgxj7JPolmw/viewform?c=0&w=1)\n",
    "\n",
    "If you have any comments on this Reading Journal, feel free to leave them in the survey linked above. This could include suggestions to improve the exercises, topics you'd like to see covered in class next time, or other feedback.\n",
    "\n",
    "If you have Python questions or run into problems while completing the reading, you should post them to Piazza instead so you can get a quick response before your journal is submitted."
   ]
  },
  {
   "cell_type": "markdown",
   "metadata": {},
   "source": [
    " "
   ]
  }
 ],
 "metadata": {
  "kernelspec": {
   "display_name": "Python 3",
   "language": "python",
   "name": "python3"
  },
  "language_info": {
   "codemirror_mode": {
    "name": "ipython",
    "version": 3
   },
   "file_extension": ".py",
   "mimetype": "text/x-python",
   "name": "python",
   "nbconvert_exporter": "python",
   "pygments_lexer": "ipython3",
   "version": "3.4.3"
  }
 },
 "nbformat": 4,
 "nbformat_minor": 0
}
